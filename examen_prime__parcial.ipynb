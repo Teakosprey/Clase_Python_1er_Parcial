{
  "nbformat": 4,
  "nbformat_minor": 0,
  "metadata": {
    "colab": {
      "provenance": [],
      "include_colab_link": true
    },
    "kernelspec": {
      "name": "python3",
      "display_name": "Python 3"
    },
    "language_info": {
      "name": "python"
    }
  },
  "cells": [
    {
      "cell_type": "markdown",
      "metadata": {
        "id": "view-in-github",
        "colab_type": "text"
      },
      "source": [
        "<a href=\"https://colab.research.google.com/github/Teakosprey/Clase_Python_1er_Parcial/blob/main/examen_prime__parcial.ipynb\" target=\"_parent\"><img src=\"https://colab.research.google.com/assets/colab-badge.svg\" alt=\"Open In Colab\"/></a>"
      ]
    },
    {
      "cell_type": "markdown",
      "source": [
        "Problematica"
      ],
      "metadata": {
        "id": "Rr2hXTL_Dyi5"
      }
    },
    {
      "cell_type": "markdown",
      "source": [
        "COn que herramientas le vas a dar solución"
      ],
      "metadata": {
        "id": "3SNY-JHFD34j"
      }
    },
    {
      "cell_type": "markdown",
      "source": [
        "##DAR LA BIENVENIDA AL USUARIO."
      ],
      "metadata": {
        "id": "tq0Ug5VqzXnc"
      }
    },
    {
      "cell_type": "code",
      "source": [
        "print('Bienvenido estudiante al registro de ingreso a la universidad.')"
      ],
      "metadata": {
        "id": "dPCJuDkZvVbo",
        "colab": {
          "base_uri": "https://localhost:8080/"
        },
        "outputId": "96d15bf7-1df7-458f-c31f-951f2fe0bb1c"
      },
      "execution_count": 47,
      "outputs": [
        {
          "output_type": "stream",
          "name": "stdout",
          "text": [
            "Bienvenido estudiante al registro de ingreso a la universidad.\n"
          ]
        }
      ]
    },
    {
      "cell_type": "markdown",
      "source": [
        "##Se le solicitarán los datos correspondiente al aspirante (Nombre, Apellido, Edad ,Carrera)."
      ],
      "metadata": {
        "id": "rvq6d06vzd_Z"
      }
    },
    {
      "cell_type": "code",
      "source": [
        "nombre = (input('Ingrese su Nombre(s): '))\n",
        "apellido = (input('Ingrese sus Apellidos: '))\n",
        "edad = (input('Ingrese su Edad: '))\n",
        "carrera = (input('Ingrese su Carrera: '))"
      ],
      "metadata": {
        "id": "0-amvpTnxY-i",
        "colab": {
          "base_uri": "https://localhost:8080/"
        },
        "outputId": "8c882b75-08eb-4299-fc27-2de033698cd3"
      },
      "execution_count": 48,
      "outputs": [
        {
          "name": "stdout",
          "output_type": "stream",
          "text": [
            "Ingrese su Nombre(s): Abdiel\n",
            "Ingrese sus Apellidos: Hernández Martínez\n",
            "Ingrese su Edad: 19\n",
            "Ingrese su Carrera: Ingeniería\n"
          ]
        }
      ]
    },
    {
      "cell_type": "markdown",
      "source": [
        "##Se llena una diccionario con los datos que el aspirante ingresó."
      ],
      "metadata": {
        "id": "wfJbDWQZ-pwB"
      }
    },
    {
      "cell_type": "code",
      "source": [
        "#Se llena el diccionario\n",
        "aspirante = {\n",
        "    'Nombre': nombre,\n",
        "    'Apellidos': apellido,\n",
        "    'Edad': edad,\n",
        "    'Carrera': carrera,\n",
        "    'Seleccionado': False\n",
        "}\n",
        "\n",
        "print(aspirante)\n"
      ],
      "metadata": {
        "id": "GHyTasBPyR1h",
        "colab": {
          "base_uri": "https://localhost:8080/"
        },
        "outputId": "bd4ebb29-b339-4dcb-ea28-2578a1c0b3dd"
      },
      "execution_count": 49,
      "outputs": [
        {
          "output_type": "stream",
          "name": "stdout",
          "text": [
            "{'Nombre': 'Abdiel', 'Apellidos': 'Hernández Martínez', 'Edad': '19', 'Carrera': 'Ingeniería', 'Seleccionado': False}\n"
          ]
        }
      ]
    },
    {
      "cell_type": "markdown",
      "source": [
        "##Solicitar al usuario las calificaciones finales de la preparatoria."
      ],
      "metadata": {
        "id": "6tTNZsen6jc0"
      }
    },
    {
      "cell_type": "code",
      "source": [
        "input('A continuación se le pedirá sus calificaciones finales. ¿OK? ') #Se le piden calificaciones.\n",
        "calif_1 = float (input('Ingrese su primera calificación: '))\n",
        "calif_2 = float (input('Ingrese su segunda calificación: '))\n",
        "calif_3 = float(input('Ingrese su tercera calificación: '))\n",
        "calif_4 = float (input('Ingrese su cuarta calificación: '))\n",
        "calif_5 = float (input('Ingrese su quinta calificación: '))\n",
        "calif_6 = float (input('Ingrese su sexta calificación: '))\n",
        "\n",
        "calificaciones = [calif_1, calif_2, calif_3, calif_4, calif_5, calif_6] #Las calificaciones se guardan en una lista.\n",
        "promedio = sum(calificaciones) / len(calificaciones) #Se saca el promedio haciendo la suma de los valores de la lista, y dividiendolo entre el \"len\" de la misma.\n",
        "\n",
        "print(f'\\nSu promedio es: {promedio}') #Imprime el promedio"
      ],
      "metadata": {
        "id": "UdXDLFKNz6k-",
        "colab": {
          "base_uri": "https://localhost:8080/"
        },
        "outputId": "f14763b6-403f-4a24-9147-bb76f59cbe10"
      },
      "execution_count": 50,
      "outputs": [
        {
          "output_type": "stream",
          "name": "stdout",
          "text": [
            "A continuación se le pedirá sus calificaciones finales. ¿OK? 9\n",
            "Ingrese su primera calificación: 9\n",
            "Ingrese su segunda calificación: 9\n",
            "Ingrese su tercera calificación: 9\n",
            "Ingrese su cuarta calificación: 9\n",
            "Ingrese su quinta calificación: 9\n",
            "Ingrese su sexta calificación: 9\n",
            "\n",
            "Su promedio es: 9.0\n"
          ]
        }
      ]
    },
    {
      "cell_type": "markdown",
      "source": [
        "##Se comprueba si el aspirante es apto para aplicar el examen. "
      ],
      "metadata": {
        "id": "x5DtPBWn-0tc"
      }
    },
    {
      "cell_type": "code",
      "source": [
        "if promedio < 7:\n",
        "  print('Lo sentimos, usted no es apto para aplicar el examen')\n",
        "else:\n",
        "  print('Felicidades, usted ha sido seleccionado para aplicar el examen')"
      ],
      "metadata": {
        "id": "4RxqL9GO1rpE",
        "colab": {
          "base_uri": "https://localhost:8080/"
        },
        "outputId": "7871ea58-c63c-492d-a561-18ccb2b69809"
      },
      "execution_count": 51,
      "outputs": [
        {
          "output_type": "stream",
          "name": "stdout",
          "text": [
            "Felicidades, usted ha sido seleccionado para aplicar el examen\n"
          ]
        }
      ]
    },
    {
      "cell_type": "markdown",
      "source": [
        "##Se le aplicará al aspirante un examen de 3 preguntas para ver si está preparado para ingresar a la carrera seleccionada."
      ],
      "metadata": {
        "id": "aAJNEx_--883"
      }
    },
    {
      "cell_type": "code",
      "source": [
        "input('A continuación se le hará un examen de tres preguntas, para saber si está listo para ingresar a la Universidad. ¿Está listo? ')\n",
        "resp_1 = int (input('¿Cuánto es 176 + 423? '))\n",
        "print('¿Quién es el creador de Python? ')\n",
        "resp_2 = int (input('(1) Bill Clinton. (2) Guido Van Rossum. (3) Kentaro Miura. '))\n",
        "print('¿Qué son condicionales en programación? ') \n",
        "resp_3 = int (input('(1) if, while, input. (2) Son parametros que se realizan si se cumple cierta condición. (3) Son botones de guardado.'))"
      ],
      "metadata": {
        "id": "VQKU04PN2M_-",
        "colab": {
          "base_uri": "https://localhost:8080/"
        },
        "outputId": "de4501b1-0712-4a60-bb39-acf2fa8ae1fa"
      },
      "execution_count": 52,
      "outputs": [
        {
          "name": "stdout",
          "output_type": "stream",
          "text": [
            "A continuación se le hará un examen de tres preguntas, para saber si está listo para ingresar a la Universidad. ¿Está listo? i\n",
            "¿Cuánto es 176 + 423? 599\n",
            "¿Quién es el creador de Python? \n",
            "(1) Bill Clinton. (2) Guido Van Rossum. (3) Kentaro Miura. 2\n",
            "¿Qué son condicionales en programación? \n",
            "(1) if, while, input. (2) Son parametros que se realizan si se cumple cierta condición. (3) Son botones de guardado.2\n"
          ]
        }
      ]
    },
    {
      "cell_type": "markdown",
      "source": [
        "##Se contara la cantidad de errores y aciertos que tuvo el aspirante."
      ],
      "metadata": {
        "id": "e5nKmKde_N40"
      }
    },
    {
      "cell_type": "code",
      "source": [
        "correctas = 0\n",
        "incorrectas = 0\n",
        "\n",
        "if resp_1 ==599:\n",
        "  correctas += 1\n",
        "else:\n",
        "  incorrectas += 1\n",
        "\n",
        "if resp_2 ==2:\n",
        "  correctas += 1\n",
        "else:\n",
        "  incorrectas += 1\n",
        "\n",
        "if resp_3 == 2:\n",
        "  correctas += 1\n",
        "else:\n",
        "  incorrectas += 1"
      ],
      "metadata": {
        "id": "sRAm1fpp7Brq"
      },
      "execution_count": 53,
      "outputs": []
    },
    {
      "cell_type": "markdown",
      "source": [
        "##Se reflejarán los datos del aspirante y sus resultados."
      ],
      "metadata": {
        "id": "WA0jpZtq_XXJ"
      }
    },
    {
      "cell_type": "code",
      "source": [
        "if incorrectas >= 2:\n",
        "  print('Lo sentimos, usted no ha alcanzado el puntaje para entrar a la Universidad')\n",
        "else:\n",
        "  print(f'Felicidades, usted ha sido aceptado en la carrera de {carrera}. Bienvenido')\n",
        "  print(f'Su puntaje es: {correctas}')\n",
        "  aspirante['Seleccionado'] = True\n",
        "  print(aspirante)"
      ],
      "metadata": {
        "id": "UI5vuIbe7zPy",
        "colab": {
          "base_uri": "https://localhost:8080/"
        },
        "outputId": "3260f1f6-7620-4650-c72f-4fd6b8c738d7"
      },
      "execution_count": 54,
      "outputs": [
        {
          "output_type": "stream",
          "name": "stdout",
          "text": [
            "Felicidades, usted ha sido aceptado en la carrera de Ingeniería. Bienvenido\n",
            "Su puntaje es: 3\n",
            "{'Nombre': 'Abdiel', 'Apellidos': 'Hernández Martínez', 'Edad': '19', 'Carrera': 'Ingeniería', 'Seleccionado': True}\n"
          ]
        }
      ]
    }
  ]
}