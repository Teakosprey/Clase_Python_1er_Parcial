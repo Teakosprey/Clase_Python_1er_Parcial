{
  "nbformat": 4,
  "nbformat_minor": 0,
  "metadata": {
    "colab": {
      "provenance": [],
      "authorship_tag": "ABX9TyNnb432a1UPKMnXIAGKDoyk",
      "include_colab_link": true
    },
    "kernelspec": {
      "name": "python3",
      "display_name": "Python 3"
    },
    "language_info": {
      "name": "python"
    }
  },
  "cells": [
    {
      "cell_type": "markdown",
      "metadata": {
        "id": "view-in-github",
        "colab_type": "text"
      },
      "source": [
        "<a href=\"https://colab.research.google.com/github/Teakosprey/Clase_Python_1er_Parcial/blob/main/Pase_para_examen.ipynb\" target=\"_parent\"><img src=\"https://colab.research.google.com/assets/colab-badge.svg\" alt=\"Open In Colab\"/></a>"
      ]
    },
    {
      "cell_type": "code",
      "execution_count": null,
      "metadata": {
        "id": "8PM9sSp0vdDs"
      },
      "outputs": [],
      "source": [
        "#Le pregunta a los jugadores que quieren.\n",
        "jugador_1 = int (input('Jugador uno, (1) Piedra, (2) Papel, (3) Tijera, (4) Lagarto, (5) Spock '))\n",
        "jugador_2 = int (input('Jugador dos, (1) Piedra, (2) Papel, (3) Tijera, (4) Lagarto, (5) Spock '))\n",
        "\n",
        "#Analiza las opciones si el jugador uno elige Piedra.\n",
        "if jugador_1 == 1 and jugador_2 == 1:\n",
        "  print('\\nEmpate')\n",
        "if jugador_1 == 1 and jugador_2 == 2:\n",
        "  print('\\nPapel envuelve Piedra')\n",
        "  print('\\nJugador 2 gana')\n",
        "if jugador_1 == 1 and jugador_2 == 3:\n",
        "  print('\\nPiedra rompe Tijeras')\n",
        "  print('\\nJugador 1 gana')\n",
        "if jugador_1 == 1 and jugador_2 == 4:\n",
        "  print('\\nPiedra aplasta Lagarto')\n",
        "  print('\\nJugador 1 gana')\n",
        "if jugador_1 == 1 and jugador_2 == 5:\n",
        "  print('\\nSpock vaporiza Piedra')\n",
        "  print('\\nJugador 2 gana')\n",
        "\n",
        "#Analiza las opciones si el jugador uno elige Papel.\n",
        "if jugador_1 == 2 and jugador_2 == 1:\n",
        "  print('\\nPapel envuelve Piedra')\n",
        "  print('\\nJugador 1 gana')\n",
        "if jugador_1 == 2 and jugador_2 == 2:\n",
        "  print('\\nEmpate')\n",
        "if jugador_1 == 2 and jugador_2 == 3:\n",
        "  print('\\nTijera corta Papel')\n",
        "  print('\\nJugador 2 gana')\n",
        "if jugador_1 == 2 and jugador_2 == 4:\n",
        "  print('\\nLagarto devora Papel')\n",
        "  print('\\nJugador 2 gana')\n",
        "if jugador_1 == 2 and jugador_2 == 5:\n",
        "  print('\\nPapel desautoriza Spock')\n",
        "  print('\\nJugador 1 gana')\n",
        "\n",
        "#Analiza las opciones si el jugador uno elige Tijeras.\n",
        "if jugador_1 == 3 and jugador_2 == 1:\n",
        "  print('\\nPiedra rompe Tijeras')\n",
        "  print('\\nJugador 2 gana')\n",
        "if jugador_1 == 3 and jugador_2 == 2:\n",
        "  print('\\nTijeras corta Papel')\n",
        "  print('\\nJugador 1 gana')\n",
        "if jugador_1 == 3 and jugador_2 == 3:\n",
        "  print('\\nEmpate')\n",
        "if jugador_1 == 3 and jugador_2 == 4:\n",
        "  print('\\nTijeras decapita Lagarto')\n",
        "  print('\\nJugador 1 gana')\n",
        "if jugador_1 == 3 and jugador_2 == 5:\n",
        "  print('\\nSpock rompe Tijeras')  \n",
        "  print('\\nJugador 2 gana')\n",
        "\n",
        "#Analiza las opciones si el jugador uno elige Lagarto.\n",
        "if jugador_1 == 4 and jugador_2 == 1:\n",
        "  print('\\nPiedra aplasta Lagarto')\n",
        "  print('\\nJugador 2 gana')\n",
        "if jugador_1 == 4 and jugador_2 == 2:\n",
        "  print('\\nLagarto devora Papel')\n",
        "  print('\\nJugador 1 gana')\n",
        "if jugador_1 == 4 and jugador_2 == 3:\n",
        "  print('\\nTijeras decapita Lagarto')\n",
        "  print('\\nJugador 2 gana')\n",
        "if jugador_1 == 4 and jugador_2 == 4:\n",
        "  print('\\nEmpate')\n",
        "if jugador_1 == 4 and jugador_2 == 5:\n",
        "  print('\\nLagarto envenena Spock')\n",
        "  print('\\nJugador 1 gana')\n",
        "\n",
        "#Analiza las opciones si el jugador uno elige Spock.\n",
        "if jugador_1 == 5 and jugador_2 == 1:\n",
        "  print('\\nSpock vaporiza Piedra')\n",
        "  print('\\nJugador 1 gana')\n",
        "if jugador_1 == 5 and jugador_2 == 2:\n",
        "  print('\\nPapel desautoriza Spock')\n",
        "  print('\\nJugador 2 gana')\n",
        "if jugador_1 == 5 and jugador_2 == 3:\n",
        "  print('\\nSpock rompe Tijeras')\n",
        "  print('\\nJugador 1 gana')\n",
        "if jugador_1 == 5 and jugador_2 == 4:\n",
        "  print('\\nLagarto envenena Spock')\n",
        "  print('\\nJugador 2 gana')\n",
        "if jugador_1 == 5 and jugador_2 == 5:\n",
        "  print('\\nEmpate')"
      ]
    }
  ]
}