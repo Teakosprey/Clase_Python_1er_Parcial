{
  "nbformat": 4,
  "nbformat_minor": 0,
  "metadata": {
    "colab": {
      "provenance": [],
      "authorship_tag": "ABX9TyNsFbkBHx+qhbYKuJbk48iO",
      "include_colab_link": true
    },
    "kernelspec": {
      "name": "python3",
      "display_name": "Python 3"
    },
    "language_info": {
      "name": "python"
    }
  },
  "cells": [
    {
      "cell_type": "markdown",
      "metadata": {
        "id": "view-in-github",
        "colab_type": "text"
      },
      "source": [
        "<a href=\"https://colab.research.google.com/github/Teakosprey/Class_Python/blob/main/03_strings.ipynb\" target=\"_parent\"><img src=\"https://colab.research.google.com/assets/colab-badge.svg\" alt=\"Open In Colab\"/></a>"
      ]
    },
    {
      "cell_type": "markdown",
      "source": [
        "##ACTIVIDAD\n",
        "\n",
        "Genera palíndromos y comprueba que efectivamente lo son"
      ],
      "metadata": {
        "id": "NNzQR85qs3oj"
      }
    },
    {
      "cell_type": "code",
      "execution_count": null,
      "metadata": {
        "id": "VlqHm0eGk-PU"
      },
      "outputs": [],
      "source": [
        "palabra = (input(\"Ingrese una palabra Palíndroma: \"))\n",
        "print(palabra[::-1])"
      ]
    }
  ]
}